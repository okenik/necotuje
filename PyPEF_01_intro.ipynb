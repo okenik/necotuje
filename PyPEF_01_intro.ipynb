{
  "nbformat": 4,
  "nbformat_minor": 0,
  "metadata": {
    "colab": {
      "provenance": [],
      "toc_visible": true,
      "include_colab_link": true
    },
    "kernelspec": {
      "name": "python3",
      "display_name": "Python 3"
    },
    "language_info": {
      "name": "python"
    }
  },
  "cells": [
    {
      "cell_type": "markdown",
      "metadata": {
        "id": "view-in-github",
        "colab_type": "text"
      },
      "source": [
        "<a href=\"https://colab.research.google.com/github/okenik/necotuje/blob/main/PyPEF_01_intro.ipynb\" target=\"_parent\"><img src=\"https://colab.research.google.com/assets/colab-badge.svg\" alt=\"Open In Colab\"/></a>"
      ]
    },
    {
      "cell_type": "markdown",
      "source": [
        "# PyPEF, lecture 01. Introduction. Basic syntax.\n",
        "\n",
        "Prepared by: Aleksej Gaj ( pythonforstudents24@gmail.com )\n",
        "\n",
        "🔗 Course website: [https://aleksejalex.4fan.cz/pef_python/](https://aleksejalex.4fan.cz/pef_python/)\n",
        "\n",
        "\n",
        "\n"
      ],
      "metadata": {
        "id": "s4q7C3atSUxs"
      }
    },
    {
      "cell_type": "markdown",
      "source": [
        "In this tutorial we familiarize ourselves with\n",
        " - Google Colaboratory (a.k.a. [Google Colab](https://colab.research.google.com/))\n",
        " - using Python in interactive way in jupyter notebooks (`.ipynb` files)\n",
        " - basic syntax of Python.\n"
      ],
      "metadata": {
        "id": "H77RbxQ9GT3z"
      }
    },
    {
      "cell_type": "markdown",
      "source": [
        "## Simplicity of basic expressions\n",
        "\n",
        " - in jupyter notebook (`.ipynb` file) every cell (\"piece of code\") is executed independently, but they do share common interpreter (variables and functions introduced once are kept until removed or the kernel is restarted.)\n",
        "\n",
        " 💡️ restart kernel in Google Colab: `Runtime` -> `Restart session`\n",
        "\n"
      ],
      "metadata": {
        "id": "Ul3JI4xES-Tq"
      }
    },
    {
      "cell_type": "markdown",
      "source": [
        "## Keywords: less than in some other languages\n"
      ],
      "metadata": {
        "id": "y2d1OEsXAkcD"
      }
    },
    {
      "cell_type": "markdown",
      "source": [
        "| Keyword     | Description                                         |\n",
        "|-------------|-----------------------------------------------------|\n",
        "| `False`     | Boolean value representing false                    |\n",
        "| `None`      | Represents absence of a value or null               |\n",
        "| `True`      | Boolean value representing true                     |\n",
        "| `and`       | Logical operator 'and'                              |\n",
        "| `as`        | Alias for module import or exception handling       |\n",
        "| `assert`    | Assert statement for debugging                       |\n",
        "| `async`     | Declares asynchronous function                      |\n",
        "| `await`     | Used to await asynchronous function calls           |\n",
        "| `break`     | Breaks out of loop                                  |\n",
        "| `class`     | Defines a class                                     |\n",
        "| `continue`  | Skips the rest of the loop iteration                |\n",
        "| `def`       | Defines a function                                  |\n",
        "| `del`       | Deletes reference to an object                      |\n",
        "| `elif`      | \"Else if\" conditional statement                     |\n",
        "| `else`      | Conditional block executed if if-statement is false |\n",
        "| `except`    | Catches exceptions raised in try block              |\n",
        "| `finally`   | Block of code executed regardless of try-except     |\n",
        "| `for`       | Looping construct for iterating over sequences      |\n",
        "| `from`      | Import specific attributes or functions from module |\n",
        "| `global`    | Declares a global variable                          |\n",
        "| `if`        | Conditional statement                               |\n",
        "| `import`    | Imports modules or specific attributes/functions    |\n",
        "| `in`        | Membership test                                     |\n",
        "| `is`        | Identity test                                       |\n",
        "| `lambda`    | Creates anonymous functions                         |\n",
        "| `nonlocal`  | Declares a nonlocal variable                        |\n",
        "| `not`       | Logical operator 'not'                              |\n",
        "| `or`        | Logical operator 'or'                               |\n",
        "| `pass`      | Null operation, acts as placeholder                 |\n",
        "| `raise`     | Raises an exception                                 |\n",
        "| `return`    | Returns a value from function                       |\n",
        "| `try`       | Defines a block to be tested for errors             |\n",
        "| `while`     | Looping construct for indefinite iteration          |\n",
        "| `with`      | Simplifies exception handling with context managers |\n",
        "| `yield`     | Pauses and resumes generator function               |\n"
      ],
      "metadata": {
        "id": "2gIXYqtnBQ4n"
      }
    },
    {
      "cell_type": "markdown",
      "source": [
        "## Comments"
      ],
      "metadata": {
        "id": "UvUBvhNGO0t6"
      }
    },
    {
      "cell_type": "code",
      "source": [
        "a = 1 # this is inline comment\n",
        "# ahoj"
      ],
      "metadata": {
        "id": "1OtVNzi2O4fv"
      },
      "execution_count": 2,
      "outputs": []
    },
    {
      "cell_type": "markdown",
      "source": [
        "Python does not have multi-line comments, so string is frequently used for this purpose (separated via triple apostrophs):"
      ],
      "metadata": {
        "id": "317z2-H7PM4K"
      }
    },
    {
      "cell_type": "code",
      "source": [
        "\"\"\" This is block comment \"\"\"\n",
        "\n",
        "\"\"\"\n",
        "This is also\n",
        "block comment\n",
        "on several lines\n",
        "\"\"\""
      ],
      "metadata": {
        "colab": {
          "base_uri": "https://localhost:8080/",
          "height": 35
        },
        "id": "VVPdQjClO9ij",
        "outputId": "6bdddac0-4830-4713-fa9f-0366f373bc8c"
      },
      "execution_count": null,
      "outputs": [
        {
          "output_type": "execute_result",
          "data": {
            "text/plain": [
              "'\\nThis is also\\nblock comment\\non several lines\\n'"
            ],
            "application/vnd.google.colaboratory.intrinsic+json": {
              "type": "string"
            }
          },
          "metadata": {},
          "execution_count": 2
        }
      ]
    },
    {
      "cell_type": "markdown",
      "source": [
        "Note. Strings above were printed - jupyter notebook causes this behaviour. These won't be printed out when running scripts (`.py`)."
      ],
      "metadata": {
        "id": "xxsR0f-zPvtL"
      }
    },
    {
      "cell_type": "markdown",
      "source": [
        "## Defining variables. Output (function `print`)."
      ],
      "metadata": {
        "id": "xSH-pS0KQbXf"
      }
    },
    {
      "cell_type": "code",
      "source": [
        "a=67\n",
        "print(a)"
      ],
      "metadata": {
        "id": "-Xz8CSDBS0ke",
        "colab": {
          "base_uri": "https://localhost:8080/"
        },
        "outputId": "3139e913-496a-4cb7-9ebd-0616a781b3dd"
      },
      "execution_count": 6,
      "outputs": [
        {
          "output_type": "stream",
          "name": "stdout",
          "text": [
            "67\n"
          ]
        }
      ]
    },
    {
      "cell_type": "code",
      "source": [
        "print(f\"Variable 'a' is equal to {a}.\")  # print using f-string"
      ],
      "metadata": {
        "colab": {
          "base_uri": "https://localhost:8080/"
        },
        "id": "ewc5QD2RBmHz",
        "outputId": "0a106314-47bd-41d0-b0e0-59439f2b2060"
      },
      "execution_count": null,
      "outputs": [
        {
          "output_type": "stream",
          "name": "stdout",
          "text": [
            "Variable 'a' is equal to 2.\n"
          ]
        }
      ]
    },
    {
      "cell_type": "code",
      "source": [
        "pef = \"Provozne ekonomicka fakulta\"\n",
        "print(pef)"
      ],
      "metadata": {
        "colab": {
          "base_uri": "https://localhost:8080/"
        },
        "id": "955iGc50Oqxo",
        "outputId": "2de776d3-d608-4fb2-c442-130c4192cc98"
      },
      "execution_count": null,
      "outputs": [
        {
          "output_type": "stream",
          "name": "stdout",
          "text": [
            "Provozne ekonomicka fakulta\n"
          ]
        }
      ]
    },
    {
      "cell_type": "code",
      "source": [
        "b = ( 10 + a ) / 6"
      ],
      "metadata": {
        "id": "YNFYPaTUS0hu"
      },
      "execution_count": null,
      "outputs": []
    },
    {
      "cell_type": "code",
      "source": [
        "b  # when single varible called in iPython (notebook), it's printed out automatically"
      ],
      "metadata": {
        "colab": {
          "base_uri": "https://localhost:8080/"
        },
        "id": "xbI_H-JYQpc-",
        "outputId": "7529ed7f-8662-4ccf-e591-dded5c95bff1"
      },
      "execution_count": null,
      "outputs": [
        {
          "output_type": "execute_result",
          "data": {
            "text/plain": [
              "2.0"
            ]
          },
          "metadata": {},
          "execution_count": 13
        }
      ]
    },
    {
      "cell_type": "markdown",
      "source": [
        " - Python can handle very big numbers with ease:"
      ],
      "metadata": {
        "id": "xNVjBCAiF5Jc"
      }
    },
    {
      "cell_type": "code",
      "source": [
        "c = 999**999\n",
        "print(f\"c = {c}\")  # remember it's still INT !"
      ],
      "metadata": {
        "colab": {
          "base_uri": "https://localhost:8080/"
        },
        "id": "NNKfiSIpF4q4",
        "outputId": "19b09598-fdee-4b70-9e32-8e54eded821a"
      },
      "execution_count": null,
      "outputs": [
        {
          "output_type": "stream",
          "name": "stdout",
          "text": [
            "c = 368063488259223267894700840060521865838338232037353204655959621437025609300472231530103873614505175218691345257589896391130393189447969771645832382192366076536631132001776175977932178658703660778465765811830827876982014124022948671975678131724958064427949902810498973271030787716781467419524180040734398996952930832508934116945966120176735120823151959779536852290090377452502236990839453416790640456116471139751546750048602189291028640970574762600185950226138244530187489211615864021135312077912018844630780307462205252807737757672094320692373101032517459518497524015120165166724189816766397247824175394802028228160027100623998873667435799073054618906855460488351426611310634023489044291860510352301912426608488807462312126590206830413782664554260411266378866626653755763627796569082931785645600816236891168141774993267488171702172191072731069216881668294625679492696148976999868715671440874206427212056717373099639711168901197440416590226524192782842896415414611688187391232048327738965820265934093108172054875188246591760877131657895633586576611857277011782497943522945011248430439201297015119468730712364007639373910811953430309476832453230123996750235710787086641070310288725389595138936784715274150426495416196669832679980253436807864187160054589045664027158817958549374490512399055448819148487049363674611664609890030088549591992466360050042566270348330911795487647045949301286614658650071299695652245266080672989921799342509291635330827874264789587306974472327718704306352445925996155619153783913237212716010410294999877569745287353422903443387562746452522860420416689019732913798073773281533570910205207767157128174184873357050830752777900041943256738499067821488421053870869022738698816059810579221002560882999884763252161747566893835178558961142349304466506402373556318707175710866983035313122068321102457824112014969387225476259342872866363550383840720010832906695360553556647545295849966279980830561242960013654529514995113584909050813015198928283202189194615501403435553060147713139766323195743324848047347575473228198492343231496580885057330510949058490527738662697480293583612233134502078182014347192522391449087738579081585795613547198599661273567662441490401862839817822686573112998663038868314974259766039340894024308383451039874674061160538242392803580758232755749310843694194787991556647907091849600704712003371103926967137408125713631396699343733288014254084819379380555174777020843568689927348949484201042595271932630685747613835385434424807024615161848223715989797178155169951121052285149157137697718850449708843330475301440373094611119631361702936342263219382793996895988331701890693689862459020775599439506870005130750427949747071390095256759203426671803377068109744629909769176319526837824364926844730545524646494321826241925107158040561607706364484910978348669388142016838792902926158979355432483611517588605967745393958061959024834251565197963477521095821435651996730128376734574843289089682710350244222290017891280419782767803785277960834729869249991658417000499998999\n"
          ]
        }
      ]
    },
    {
      "cell_type": "code",
      "source": [
        "#zkouska\n",
        "a=2**2\n",
        "print(a*a**a)"
      ],
      "metadata": {
        "id": "9Lan7QplSKDg",
        "outputId": "79bcb135-a1c3-42d4-d953-870ce1a2fe4e",
        "colab": {
          "base_uri": "https://localhost:8080/"
        }
      },
      "execution_count": 11,
      "outputs": [
        {
          "output_type": "stream",
          "name": "stdout",
          "text": [
            "1024\n"
          ]
        }
      ]
    },
    {
      "cell_type": "markdown",
      "source": [
        "## Types of variables (`type`)."
      ],
      "metadata": {
        "id": "97QskfavQ59E"
      }
    },
    {
      "cell_type": "markdown",
      "source": [
        "| Type         | Description                                | Example                   |\n",
        "|--------------|--------------------------------------------|---------------------------|\n",
        "| int          | Integer values                             | `x = 5`                   |\n",
        "| float        | Floating-point numbers                     | `y = 3.14`                |\n",
        "| complex      | Complex numbers                            | `z = 2 + 3j`              |\n",
        "| bool         | Boolean values (True/False)                | `is_it_raining = False`         |\n",
        "| str          | String values                              | `message = \"Hello, World\"`|\n",
        "| list         | Ordered collection of items                | `my_list = [1, 2, 3]`     |\n",
        "| tuple        | Immutable ordered collection of items      | `my_tuple = (1, 2, 3)`    |\n",
        "| set          | Unordered collection of unique items       | `my_set = {1, 2, 3}`      |\n",
        "| dict         | Collection of key-value pairs              | `my_dict = {'eggs': 6, 'apples': 3, 'cookies': \"chocolate\"}`|\n"
      ],
      "metadata": {
        "id": "4x3tGqCavtVy"
      }
    },
    {
      "cell_type": "code",
      "source": [
        "print(type(a))"
      ],
      "metadata": {
        "id": "bIV306PAS0fH",
        "colab": {
          "base_uri": "https://localhost:8080/"
        },
        "outputId": "fc269bf9-29e8-44b5-a838-34063838ade8"
      },
      "execution_count": null,
      "outputs": [
        {
          "output_type": "stream",
          "name": "stdout",
          "text": [
            "<class 'int'>\n"
          ]
        }
      ]
    },
    {
      "cell_type": "code",
      "source": [
        "print(type(b))"
      ],
      "metadata": {
        "colab": {
          "base_uri": "https://localhost:8080/"
        },
        "id": "L8MeGdpxRCvl",
        "outputId": "c90e11eb-2549-431f-d3ce-2b9511506ffa"
      },
      "execution_count": null,
      "outputs": [
        {
          "output_type": "stream",
          "name": "stdout",
          "text": [
            "<class 'float'>\n"
          ]
        }
      ]
    },
    {
      "cell_type": "code",
      "source": [
        "print(type(pef))"
      ],
      "metadata": {
        "colab": {
          "base_uri": "https://localhost:8080/"
        },
        "id": "gQ_9EzbGRFa5",
        "outputId": "377966d5-9afe-4dcc-8a8f-ab4dd26e32df"
      },
      "execution_count": null,
      "outputs": [
        {
          "output_type": "stream",
          "name": "stdout",
          "text": [
            "<class 'str'>\n"
          ]
        }
      ]
    },
    {
      "cell_type": "markdown",
      "source": [
        "Python is very tolerant when autotyping:"
      ],
      "metadata": {
        "id": "Ku2FsWT6RMzn"
      }
    },
    {
      "cell_type": "code",
      "source": [
        "a + b  # sum of int and float"
      ],
      "metadata": {
        "colab": {
          "base_uri": "https://localhost:8080/"
        },
        "id": "MyKovydJRS7A",
        "outputId": "48dc58d5-a97f-4fec-b7f7-2c300feaede8"
      },
      "execution_count": null,
      "outputs": [
        {
          "output_type": "execute_result",
          "data": {
            "text/plain": [
              "4.0"
            ]
          },
          "metadata": {},
          "execution_count": 17
        }
      ]
    },
    {
      "cell_type": "code",
      "source": [
        "czu = 'Ceska zemedelska universita'\n",
        "pef + czu  # sum of two strings (a.k.a. concatenation)"
      ],
      "metadata": {
        "colab": {
          "base_uri": "https://localhost:8080/",
          "height": 35
        },
        "id": "MfBfwp0LRS1J",
        "outputId": "31fc4a3d-673a-434c-b101-63038f7652e0"
      },
      "execution_count": null,
      "outputs": [
        {
          "output_type": "execute_result",
          "data": {
            "text/plain": [
              "'Provozne ekonomicka fakultaCeska zemedelska universita'"
            ],
            "application/vnd.google.colaboratory.intrinsic+json": {
              "type": "string"
            }
          },
          "metadata": {},
          "execution_count": 18
        }
      ]
    },
    {
      "cell_type": "code",
      "source": [
        "print(f'I study at {pef}, {czu}.')"
      ],
      "metadata": {
        "colab": {
          "base_uri": "https://localhost:8080/"
        },
        "id": "M0dRrulvRSv6",
        "outputId": "537b0f39-12b5-4e94-fa73-d3c917ee82bf"
      },
      "execution_count": null,
      "outputs": [
        {
          "output_type": "stream",
          "name": "stdout",
          "text": [
            "I study at Provozne ekonomicka fakulta, Ceska zemedelska universita.\n"
          ]
        }
      ]
    },
    {
      "cell_type": "code",
      "source": [
        "print(a + pef) # but even Python's patience has its limits"
      ],
      "metadata": {
        "colab": {
          "base_uri": "https://localhost:8080/",
          "height": 141
        },
        "id": "wicde9rPRnXj",
        "outputId": "2e107ef8-809d-49dc-d6ff-270128225a58"
      },
      "execution_count": null,
      "outputs": [
        {
          "output_type": "error",
          "ename": "TypeError",
          "evalue": "unsupported operand type(s) for +: 'int' and 'str'",
          "traceback": [
            "\u001b[0;31m---------------------------------------------------------------------------\u001b[0m",
            "\u001b[0;31mTypeError\u001b[0m                                 Traceback (most recent call last)",
            "\u001b[0;32m<ipython-input-20-09ed65e8ac25>\u001b[0m in \u001b[0;36m<cell line: 1>\u001b[0;34m()\u001b[0m\n\u001b[0;32m----> 1\u001b[0;31m \u001b[0mprint\u001b[0m\u001b[0;34m(\u001b[0m\u001b[0ma\u001b[0m \u001b[0;34m+\u001b[0m \u001b[0mpef\u001b[0m\u001b[0;34m)\u001b[0m \u001b[0;31m# but even Python's patience has its limits\u001b[0m\u001b[0;34m\u001b[0m\u001b[0;34m\u001b[0m\u001b[0m\n\u001b[0m",
            "\u001b[0;31mTypeError\u001b[0m: unsupported operand type(s) for +: 'int' and 'str'"
          ]
        }
      ]
    },
    {
      "cell_type": "markdown",
      "source": [
        "The error above can be avoided with retyping variables:"
      ],
      "metadata": {
        "id": "uY5TkM12R3f3"
      }
    },
    {
      "cell_type": "code",
      "source": [
        "a_str = str(a)\n",
        "print(f\"type of a is {type(a)}, but type of a_str is {type(a_str)}.\")"
      ],
      "metadata": {
        "colab": {
          "base_uri": "https://localhost:8080/"
        },
        "id": "Fq5MqzlXR2cI",
        "outputId": "b428cda5-d920-451f-dc0f-dfe5d5fc49a8"
      },
      "execution_count": null,
      "outputs": [
        {
          "output_type": "stream",
          "name": "stdout",
          "text": [
            "type of a is <class 'int'>, but type of a_str is <class 'str'>.\n"
          ]
        }
      ]
    },
    {
      "cell_type": "code",
      "source": [
        "pef + a_str  # now we can concatenate two strings"
      ],
      "metadata": {
        "colab": {
          "base_uri": "https://localhost:8080/",
          "height": 35
        },
        "id": "-2nAK3u_SI9Z",
        "outputId": "179f832b-2134-41b2-e5a7-3f6df73261cc"
      },
      "execution_count": null,
      "outputs": [
        {
          "output_type": "execute_result",
          "data": {
            "text/plain": [
              "'Provozne ekonomicka fakulta2'"
            ],
            "application/vnd.google.colaboratory.intrinsic+json": {
              "type": "string"
            }
          },
          "metadata": {},
          "execution_count": 22
        }
      ]
    },
    {
      "cell_type": "markdown",
      "source": [
        "## Input"
      ],
      "metadata": {
        "id": "uPqFOZoQxExZ"
      }
    },
    {
      "cell_type": "code",
      "source": [
        "user_name = input(\"Enter your name --> \")\n",
        "print(f'You entered: {user_name}.')"
      ],
      "metadata": {
        "id": "3EFZeIuPGJcF",
        "colab": {
          "base_uri": "https://localhost:8080/",
          "height": 304
        },
        "outputId": "edc96c7d-8be8-4700-eb2b-56c539c0c02e"
      },
      "execution_count": 24,
      "outputs": [
        {
          "output_type": "error",
          "ename": "KeyboardInterrupt",
          "evalue": "Interrupted by user",
          "traceback": [
            "\u001b[0;31m---------------------------------------------------------------------------\u001b[0m",
            "\u001b[0;31mKeyboardInterrupt\u001b[0m                         Traceback (most recent call last)",
            "\u001b[0;32m/tmp/ipython-input-3675898542.py\u001b[0m in \u001b[0;36m<cell line: 0>\u001b[0;34m()\u001b[0m\n\u001b[0;32m----> 1\u001b[0;31m \u001b[0muser_name\u001b[0m \u001b[0;34m=\u001b[0m \u001b[0minput\u001b[0m\u001b[0;34m(\u001b[0m\u001b[0;34m\"Enter your name --> \"\u001b[0m\u001b[0;34m)\u001b[0m\u001b[0;34m\u001b[0m\u001b[0;34m\u001b[0m\u001b[0m\n\u001b[0m\u001b[1;32m      2\u001b[0m \u001b[0mprint\u001b[0m\u001b[0;34m(\u001b[0m\u001b[0;34mf'You entered: {user_name}.'\u001b[0m\u001b[0;34m)\u001b[0m\u001b[0;34m\u001b[0m\u001b[0;34m\u001b[0m\u001b[0m\n",
            "\u001b[0;32m/usr/local/lib/python3.12/dist-packages/ipykernel/kernelbase.py\u001b[0m in \u001b[0;36mraw_input\u001b[0;34m(self, prompt)\u001b[0m\n\u001b[1;32m   1175\u001b[0m                 \u001b[0;34m\"raw_input was called, but this frontend does not support input requests.\"\u001b[0m\u001b[0;34m\u001b[0m\u001b[0;34m\u001b[0m\u001b[0m\n\u001b[1;32m   1176\u001b[0m             )\n\u001b[0;32m-> 1177\u001b[0;31m         return self._input_request(\n\u001b[0m\u001b[1;32m   1178\u001b[0m             \u001b[0mstr\u001b[0m\u001b[0;34m(\u001b[0m\u001b[0mprompt\u001b[0m\u001b[0;34m)\u001b[0m\u001b[0;34m,\u001b[0m\u001b[0;34m\u001b[0m\u001b[0;34m\u001b[0m\u001b[0m\n\u001b[1;32m   1179\u001b[0m             \u001b[0mself\u001b[0m\u001b[0;34m.\u001b[0m\u001b[0m_parent_ident\u001b[0m\u001b[0;34m[\u001b[0m\u001b[0;34m\"shell\"\u001b[0m\u001b[0;34m]\u001b[0m\u001b[0;34m,\u001b[0m\u001b[0;34m\u001b[0m\u001b[0;34m\u001b[0m\u001b[0m\n",
            "\u001b[0;32m/usr/local/lib/python3.12/dist-packages/ipykernel/kernelbase.py\u001b[0m in \u001b[0;36m_input_request\u001b[0;34m(self, prompt, ident, parent, password)\u001b[0m\n\u001b[1;32m   1217\u001b[0m             \u001b[0;32mexcept\u001b[0m \u001b[0mKeyboardInterrupt\u001b[0m\u001b[0;34m:\u001b[0m\u001b[0;34m\u001b[0m\u001b[0;34m\u001b[0m\u001b[0m\n\u001b[1;32m   1218\u001b[0m                 \u001b[0;31m# re-raise KeyboardInterrupt, to truncate traceback\u001b[0m\u001b[0;34m\u001b[0m\u001b[0;34m\u001b[0m\u001b[0m\n\u001b[0;32m-> 1219\u001b[0;31m                 \u001b[0;32mraise\u001b[0m \u001b[0mKeyboardInterrupt\u001b[0m\u001b[0;34m(\u001b[0m\u001b[0;34m\"Interrupted by user\"\u001b[0m\u001b[0;34m)\u001b[0m \u001b[0;32mfrom\u001b[0m \u001b[0;32mNone\u001b[0m\u001b[0;34m\u001b[0m\u001b[0;34m\u001b[0m\u001b[0m\n\u001b[0m\u001b[1;32m   1220\u001b[0m             \u001b[0;32mexcept\u001b[0m \u001b[0mException\u001b[0m\u001b[0;34m:\u001b[0m\u001b[0;34m\u001b[0m\u001b[0;34m\u001b[0m\u001b[0m\n\u001b[1;32m   1221\u001b[0m                 \u001b[0mself\u001b[0m\u001b[0;34m.\u001b[0m\u001b[0mlog\u001b[0m\u001b[0;34m.\u001b[0m\u001b[0mwarning\u001b[0m\u001b[0;34m(\u001b[0m\u001b[0;34m\"Invalid Message:\"\u001b[0m\u001b[0;34m,\u001b[0m \u001b[0mexc_info\u001b[0m\u001b[0;34m=\u001b[0m\u001b[0;32mTrue\u001b[0m\u001b[0;34m)\u001b[0m\u001b[0;34m\u001b[0m\u001b[0;34m\u001b[0m\u001b[0m\n",
            "\u001b[0;31mKeyboardInterrupt\u001b[0m: Interrupted by user"
          ]
        }
      ]
    },
    {
      "cell_type": "code",
      "source": [
        "jmeno = input(\"zadej sve jmeno:\")\n",
        "narozeni = input(\"zapis rok narozeni:\")\n",
        "narozeni = int(narozeni)\n",
        "vek = 2025 - narozeni\n",
        "print(f\"Tvoje jmeno je {jmeno}, je ti {vek}\")\n"
      ],
      "metadata": {
        "id": "LvQP9ojBGJYo",
        "colab": {
          "base_uri": "https://localhost:8080/",
          "height": 245
        },
        "outputId": "6e20da7a-a497-4a74-fab5-41f26d015d70"
      },
      "execution_count": 30,
      "outputs": [
        {
          "name": "stdout",
          "output_type": "stream",
          "text": [
            "zadej sve jmeno:jan\n",
            "zapis rok narozeni:2000\n"
          ]
        },
        {
          "output_type": "error",
          "ename": "TypeError",
          "evalue": "'int' object is not callable",
          "traceback": [
            "\u001b[0;31m---------------------------------------------------------------------------\u001b[0m",
            "\u001b[0;31mTypeError\u001b[0m                                 Traceback (most recent call last)",
            "\u001b[0;32m/tmp/ipython-input-2369527797.py\u001b[0m in \u001b[0;36m<cell line: 0>\u001b[0;34m()\u001b[0m\n\u001b[1;32m      1\u001b[0m \u001b[0mjmeno\u001b[0m \u001b[0;34m=\u001b[0m \u001b[0minput\u001b[0m\u001b[0;34m(\u001b[0m\u001b[0;34m\"zadej sve jmeno:\"\u001b[0m\u001b[0;34m)\u001b[0m\u001b[0;34m\u001b[0m\u001b[0;34m\u001b[0m\u001b[0m\n\u001b[1;32m      2\u001b[0m \u001b[0mnarozeni\u001b[0m \u001b[0;34m=\u001b[0m \u001b[0minput\u001b[0m\u001b[0;34m(\u001b[0m\u001b[0;34m\"zapis rok narozeni:\"\u001b[0m\u001b[0;34m)\u001b[0m\u001b[0;34m\u001b[0m\u001b[0;34m\u001b[0m\u001b[0m\n\u001b[0;32m----> 3\u001b[0;31m \u001b[0mnarozeni\u001b[0m \u001b[0;34m=\u001b[0m \u001b[0mint\u001b[0m\u001b[0;34m(\u001b[0m\u001b[0mnarozeni\u001b[0m\u001b[0;34m)\u001b[0m\u001b[0;34m\u001b[0m\u001b[0;34m\u001b[0m\u001b[0m\n\u001b[0m\u001b[1;32m      4\u001b[0m \u001b[0mvek\u001b[0m \u001b[0;34m=\u001b[0m \u001b[0;36m2025\u001b[0m \u001b[0;34m-\u001b[0m \u001b[0mnarozeni\u001b[0m\u001b[0;34m\u001b[0m\u001b[0;34m\u001b[0m\u001b[0m\n\u001b[1;32m      5\u001b[0m \u001b[0mprint\u001b[0m\u001b[0;34m(\u001b[0m\u001b[0;34mf\"Tvoje jmeno je {jmeno}, je ti {vek}\"\u001b[0m\u001b[0;34m)\u001b[0m\u001b[0;34m\u001b[0m\u001b[0;34m\u001b[0m\u001b[0m\n",
            "\u001b[0;31mTypeError\u001b[0m: 'int' object is not callable"
          ]
        }
      ]
    },
    {
      "cell_type": "markdown",
      "source": [
        "## Packages - how to import and work with them\n",
        "\n",
        " - a package in Python can contain variables, functions, ... basically any object\n",
        " - some are built-in, most of them needs to be installed\n",
        " - library of all packages available: [https://pypi.org/](https://pypi.org/)\n",
        " - in Colab, some popular libraries are pre-installed. Other you can install with `!pip install <package_name>`\n",
        " -\n",
        "\n"
      ],
      "metadata": {
        "id": "G4saXuPJ1nEK"
      }
    },
    {
      "cell_type": "code",
      "source": [
        "import math  # import of package 'math'"
      ],
      "metadata": {
        "id": "ul4yMQxdGJWC"
      },
      "execution_count": 33,
      "outputs": []
    },
    {
      "cell_type": "code",
      "source": [
        "print(math.pi)  # variable form package"
      ],
      "metadata": {
        "id": "04WWcw7yGJTw",
        "colab": {
          "base_uri": "https://localhost:8080/"
        },
        "outputId": "88028175-0222-41d9-92a0-a6f2f4039f5e"
      },
      "execution_count": 34,
      "outputs": [
        {
          "output_type": "stream",
          "name": "stdout",
          "text": [
            "3.141592653589793\n"
          ]
        }
      ]
    },
    {
      "cell_type": "markdown",
      "source": [
        " - some packages have long name -> when importing, we can rename them:"
      ],
      "metadata": {
        "id": "ED29xjTy3b6F"
      }
    },
    {
      "cell_type": "code",
      "source": [
        "import math as mt\n",
        "print(mt.pi)"
      ],
      "metadata": {
        "colab": {
          "base_uri": "https://localhost:8080/"
        },
        "id": "u88EgSah3FRx",
        "outputId": "1e13a95b-696e-4f6d-f430-821bd653b825"
      },
      "execution_count": null,
      "outputs": [
        {
          "output_type": "stream",
          "name": "stdout",
          "text": [
            "3.141592653589793\n"
          ]
        }
      ]
    },
    {
      "cell_type": "markdown",
      "source": [
        " - when we need a specific object from a package, we can import only the object(s):"
      ],
      "metadata": {
        "id": "GzS5TKAR3wgi"
      }
    },
    {
      "cell_type": "code",
      "source": [
        "from math import sin, pi"
      ],
      "metadata": {
        "id": "MUSj92De3FLO"
      },
      "execution_count": 35,
      "outputs": []
    },
    {
      "cell_type": "code",
      "source": [
        "# now we can use imported objects directly:\n",
        "print( sin(pi/2) )"
      ],
      "metadata": {
        "colab": {
          "base_uri": "https://localhost:8080/"
        },
        "id": "XiiDtuU43FEf",
        "outputId": "e7eea06e-775c-47f5-d158-ad9153856edb"
      },
      "execution_count": 36,
      "outputs": [
        {
          "output_type": "stream",
          "name": "stdout",
          "text": [
            "1.0\n"
          ]
        }
      ]
    },
    {
      "cell_type": "markdown",
      "source": [
        "## Conditions. Boolean variables.\n",
        "\n",
        " - compound statement (which begins a condition, a cycle, a definition of function or a class) begins with **keyword**, line ends with **colon**, and the block of code inside is **idented via spaces** (ie. no `begin-end`, no `(...){...}`, etc. are needed in Python -> makes code more readable). \\\n",
        " Example:\n",
        "\n"
      ],
      "metadata": {
        "id": "vXBk9MqyCrBG"
      }
    },
    {
      "cell_type": "code",
      "source": [
        "if a > 3:\n",
        "    print(f\"a is greater than 3.\")\n",
        "else:\n",
        "    print(f\"a isn't greater than 3.\")"
      ],
      "metadata": {
        "id": "gGy5Sh7f3E-g",
        "colab": {
          "base_uri": "https://localhost:8080/"
        },
        "outputId": "0404fec7-3736-49ce-e83b-c130d6ba561c"
      },
      "execution_count": null,
      "outputs": [
        {
          "output_type": "stream",
          "name": "stdout",
          "text": [
            "a isn't greater than 3.\n"
          ]
        }
      ]
    },
    {
      "cell_type": "markdown",
      "source": [
        " - level of indentation can be any of your choice, but should be consistent\n",
        " - **Good convention is 4 spaces**"
      ],
      "metadata": {
        "id": "rA_HsmmuDq7d"
      }
    },
    {
      "cell_type": "markdown",
      "source": [
        " - Python does not have any `switch-case` formalism, `if-elif-else` is all you need:"
      ],
      "metadata": {
        "id": "e48O5C7QE-5W"
      }
    },
    {
      "cell_type": "code",
      "source": [
        "# let's force a 5 y.o. child to count on fingers\n",
        "a = 5  # target number\n",
        "if a > 10:\n",
        "    print(\"Not enough fingers for this.\")\n",
        "elif a > 5:\n",
        "    print(\"I need both hands for this computation.\")\n",
        "elif a >= 0:\n",
        "    print(\"I can compute it on one hand.\")\n",
        "else:\n",
        "    print(\"I don't know what negative number is.\")"
      ],
      "metadata": {
        "id": "XNuI_vvK3E4h",
        "colab": {
          "base_uri": "https://localhost:8080/"
        },
        "outputId": "948cdb08-1d5f-4798-bf03-4b6d42b4745e"
      },
      "execution_count": null,
      "outputs": [
        {
          "output_type": "stream",
          "name": "stdout",
          "text": [
            "I can compute it on one hand.\n"
          ]
        }
      ]
    },
    {
      "cell_type": "markdown",
      "source": [
        "## Logical operators, boolean values.\n",
        "\n",
        "| Keyword/Operator | Description                                             |\n",
        "|------------------|---------------------------------------------------------|\n",
        "| `True`           | Represents the boolean value true                       |\n",
        "| `False`          | Represents the boolean value false                      |\n",
        "| `and`            | Logical operator 'and' - Returns True if both operands are true, otherwise False |\n",
        "| `or`             | Logical operator 'or' - Returns True if at least one operand is true, otherwise False |\n",
        "| `not`            | Logical operator 'not' - Returns the opposite of the operand's boolean value |\n"
      ],
      "metadata": {
        "id": "-XqDl-okHMaM"
      }
    },
    {
      "cell_type": "code",
      "source": [],
      "metadata": {
        "id": "BPJc9vpg3Eyr"
      },
      "execution_count": null,
      "outputs": []
    },
    {
      "cell_type": "code",
      "source": [],
      "metadata": {
        "id": "cFncwIVI3Era"
      },
      "execution_count": null,
      "outputs": []
    },
    {
      "cell_type": "code",
      "source": [],
      "metadata": {
        "id": "MdOPucx83Elp"
      },
      "execution_count": null,
      "outputs": []
    },
    {
      "cell_type": "code",
      "source": [],
      "metadata": {
        "id": "hpAL0rFG3Edq"
      },
      "execution_count": null,
      "outputs": []
    },
    {
      "cell_type": "code",
      "source": [],
      "metadata": {
        "id": "6qHCslIDGJRC"
      },
      "execution_count": null,
      "outputs": []
    },
    {
      "cell_type": "code",
      "source": [],
      "metadata": {
        "id": "zOflObAqGJLj"
      },
      "execution_count": null,
      "outputs": []
    },
    {
      "cell_type": "markdown",
      "source": [
        "## P.S."
      ],
      "metadata": {
        "id": "0Nscmeu8Clmf"
      }
    },
    {
      "cell_type": "code",
      "source": [
        "import keyword\n",
        "\n",
        "def print_all_keywords():\n",
        "    \"\"\"\n",
        "    function that gets a list of all Python keywords and prints it out.\n",
        "    \"\"\"\n",
        "    keywords = keyword.kwlist\n",
        "    for kw in keywords:\n",
        "        print(kw)\n",
        "    return None  # optional\n",
        "\n",
        "print_all_keywords()"
      ],
      "metadata": {
        "id": "z0Hh01tYS0T5",
        "colab": {
          "base_uri": "https://localhost:8080/"
        },
        "outputId": "59d57fcc-5a8c-49e9-f419-f1fb6f2ac633"
      },
      "execution_count": null,
      "outputs": [
        {
          "output_type": "stream",
          "name": "stdout",
          "text": [
            "False\n",
            "None\n",
            "True\n",
            "and\n",
            "as\n",
            "assert\n",
            "async\n",
            "await\n",
            "break\n",
            "class\n",
            "continue\n",
            "def\n",
            "del\n",
            "elif\n",
            "else\n",
            "except\n",
            "finally\n",
            "for\n",
            "from\n",
            "global\n",
            "if\n",
            "import\n",
            "in\n",
            "is\n",
            "lambda\n",
            "nonlocal\n",
            "not\n",
            "or\n",
            "pass\n",
            "raise\n",
            "return\n",
            "try\n",
            "while\n",
            "with\n",
            "yield\n"
          ]
        }
      ]
    },
    {
      "cell_type": "code",
      "execution_count": null,
      "metadata": {
        "id": "SgnGLEW8SR72"
      },
      "outputs": [],
      "source": []
    }
  ]
}